{
 "cells": [
  {
   "cell_type": "code",
   "execution_count": 95,
   "id": "c42da479",
   "metadata": {},
   "outputs": [],
   "source": [
    "import numpy as np\n",
    "import matplotlib.pyplot as plt\n",
    "import copy"
   ]
  },
  {
   "cell_type": "markdown",
   "id": "e2627886",
   "metadata": {},
   "source": [
    "### creates Q and computes v_j, v_j'"
   ]
  },
  {
   "cell_type": "code",
   "execution_count": 3,
   "id": "1b9e722b",
   "metadata": {},
   "outputs": [],
   "source": [
    "def create_dict(ranking):\n",
    "    idx_dict = {}\n",
    "    n = len(ranking)\n",
    "    for i in range(n):\n",
    "        ky = ranking[i]\n",
    "        idx_dict[ky] = i\n",
    "    return idx_dict"
   ]
  },
  {
   "cell_type": "code",
   "execution_count": 18,
   "id": "2b6311b1",
   "metadata": {},
   "outputs": [],
   "source": [
    "# construct inversion matrix\n",
    "def create_inversion_samelen(pi_, pi_0):\n",
    "    #pi_0_idx = create_dict(pi_0)\n",
    "    n = len(pi_)\n",
    "    pi_idx = create_dict(pi_)\n",
    "    #print(pi_idx)\n",
    "    v_row = np.zeros(n)\n",
    "    v_col = np.zeros(n)\n",
    "    Q = np.zeros(shape=(n,n))\n",
    "    \n",
    "    # i,j ordering is corresponsing to pi_0\n",
    "    for i in range(n):\n",
    "        for j in range(n):\n",
    "            # if pi_[j] < pi_i[i]:\n",
    "            ky1 = pi_0[i] # row\n",
    "            ky2 = pi_0[j] # col\n",
    "\n",
    "            if ky2 in pi_idx and ky1 in pi_idx:\n",
    "                #print(\"piky2: \", pi_idx[ky2])\n",
    "                #print(\"piky1 :\", pi_idx[ky1])\n",
    "                if pi_idx[ky2] < pi_idx[ky1]: \n",
    "                    Q[i,j] = 1\n",
    "                \n",
    "                \n",
    "    # only consider the lower triangle part           \n",
    "    for i in range(n):\n",
    "        for j in range(i):\n",
    "            ky1 = pi_0[i] # row\n",
    "            ky2 = pi_0[j] # col\n",
    "\n",
    "            if ky2 in pi_idx and ky1 in pi_idx:\n",
    "                #print(\"piky2: \", pi_idx[ky2])\n",
    "                #print(\"piky1 :\", pi_idx[ky1])\n",
    "                if pi_idx[ky2] < pi_idx[ky1]: \n",
    "                    v_row[i] += 1\n",
    "                    v_col[j] += 1\n",
    "    return(Q, v_row, v_col)\n",
    "    "
   ]
  },
  {
   "cell_type": "code",
   "execution_count": 14,
   "id": "3104204e",
   "metadata": {},
   "outputs": [],
   "source": [
    "# sample input of same length\n",
    "#pi_0 = np.array(['a','b','c','d'])\n",
    "#pi_ = np.array(['c', 'd', 'a', 'b'])"
   ]
  },
  {
   "cell_type": "code",
   "execution_count": 66,
   "id": "0bdc5242",
   "metadata": {},
   "outputs": [],
   "source": [
    "#create_inversion_samelen(pi_, pi_0)"
   ]
  },
  {
   "cell_type": "markdown",
   "id": "c0dd0c0b",
   "metadata": {},
   "source": [
    "### block detection"
   ]
  },
  {
   "cell_type": "code",
   "execution_count": 139,
   "id": "e0988098",
   "metadata": {},
   "outputs": [],
   "source": [
    "# array, float\n",
    "\n",
    "def robust_mean(elems, frac):\n",
    "    #print(\"elems: \", elems)\n",
    "    v = np.sort(elems)\n",
    "    n = len(elems)\n",
    "\n",
    "    i1 = int(np.floor(n * frac))\n",
    "    i2 = int(np.ceil(n * (1-frac)) - 1)\n",
    "    #print(\"i1: \", i1)\n",
    "    #print(\"i2: \", i2)\n",
    "    v[:i1] = v[i1]\n",
    "    v[i2:] = v[i2]\n",
    "    #print(\"v: \", v)\n",
    "\n",
    "    return np.mean(v), np.std(v)"
   ]
  },
  {
   "cell_type": "code",
   "execution_count": 135,
   "id": "17b09478",
   "metadata": {},
   "outputs": [],
   "source": [
    "def find_blocks(pi_2, pi_1, length_block, outlier_frac):\n",
    "    n = len(pi_2)\n",
    "    p = outlier_frac\n",
    "    L = length_block\n",
    "    inv_mat, v_row, v_col = create_inversion_samelen(pi_2, pi_1)\n",
    "    \n",
    "    row_mean = np.zeros(L)\n",
    "    col_mean = np.zeros(L)\n",
    "    row_sd = np.zeros(L)\n",
    "    col_sd = np.zeros(L)\n",
    "    \n",
    "    for j in range(L, n, 1):\n",
    "        #print(\" v_row[(j-L + 1):j]: \", v_row[(j-L ):j])\n",
    "        #print(\"v_col[(j-L + 1):j]: \", v_col[(j-L):j])\n",
    "        row_mean_j, row_sd_j = robust_mean(v_row[(j-L ):j], p)\n",
    "        col_mean_j, col_sd_j = robust_mean(v_col[(j-L):j], p)\n",
    "        row_mean[j-L] = row_mean_j\n",
    "        row_sd[j-L] = row_sd_j\n",
    "        col_mean[j-L] = col_mean_j\n",
    "        col_sd[j-L] = col_sd_j\n",
    "    #print(\"L: \", L)\n",
    "    #print(\"n: \", n)\n",
    "    idx = np.arange(L,n, 1)\n",
    "    #print(\"idx: \", idx)\n",
    "    #print(\"v_row[L:n]: \", v_row[L:n])\n",
    "    #print(\"row_mean: \", row_mean)\n",
    "    #print(\"col_mean: \", col_mean)\n",
    "    #print(\"row_sd: \", row_sd)\n",
    "    #print(\"col_sd: \", col_sd)\n",
    "    plt.plot(idx, v_row[L:n])\n",
    "    plt.plot(idx, v_col[L:n])\n",
    "    plt.errorbar(idx, row_mean, yerr=row_sd)\n",
    "    plt.errorbar(idx, col_mean, yerr=col_sd)\n",
    " \n",
    "    \n",
    "    \n",
    "    "
   ]
  },
  {
   "cell_type": "markdown",
   "id": "ecda9068",
   "metadata": {},
   "source": [
    "### block completion"
   ]
  },
  {
   "cell_type": "code",
   "execution_count": 109,
   "id": "ba719695",
   "metadata": {},
   "outputs": [],
   "source": [
    "def find_intersect(pi1, pi2):\n",
    "    pi_intersect = [value for value in pi1 if value in pi2]\n",
    "    return pi_intersect"
   ]
  },
  {
   "cell_type": "code",
   "execution_count": 99,
   "id": "99c2e013",
   "metadata": {},
   "outputs": [],
   "source": [
    "def adjust_bk(block, pi_1, pi_2): \n",
    "    \n",
    "    for i in range(2):\n",
    "        if i == 0:\n",
    "            pi = pi_1\n",
    "        else:\n",
    "            pi = pi_2\n",
    "        \n",
    "        other_block = copy.deepcopy(block)\n",
    "            \n",
    "            \n",
    "        \n",
    "        check_membership = np.isin(pi, block)\n",
    "        #print(\"check_membership: \", check_membership)\n",
    "        n = len(pi)\n",
    "        flag = 1\n",
    "\n",
    "        min_ind = -1\n",
    "        max_ind = -1\n",
    "        for j in range(n):\n",
    "            #print(\"j: \", j)\n",
    "            if check_membership[j]:\n",
    "                if flag:\n",
    "                    min_ind = j\n",
    "                    flag = 0\n",
    "                max_ind = j\n",
    "                \n",
    "        # add to the other block if elem not in other block\n",
    "        \n",
    "        other_block = np.union1d(other_block, pi[min_ind:(max_ind+1)])\n",
    "        \n",
    "        if i == 0:\n",
    "            B = other_block\n",
    "        \n",
    "        \n",
    "    return (B, other_block)"
   ]
  },
  {
   "cell_type": "code",
   "execution_count": 51,
   "id": "2d5cb65c",
   "metadata": {},
   "outputs": [],
   "source": [
    "def block_completion(pi_1, pi_2, length_block, p_outlier):\n",
    "    intersection = find_intersect(pi_1, pi_2)\n",
    "    pi_1_project = find_intersect(pi_1, intersection)\n",
    "    pi_2_project = find_intersect(pi_2, intersection)\n",
    "    all_blocks = find_blocks(pi_2_project, pi_1_project, length_block, p_outlier)\n",
    "    completed_blocks = []\n",
    "    for bk in all_blocks:\n",
    "        completed_blocks.append(adjust_bk(bk, pi_1, pi_2))"
   ]
  },
  {
   "cell_type": "markdown",
   "id": "b06675d1",
   "metadata": {},
   "source": [
    "### example 1 (on finding blocks)"
   ]
  },
  {
   "cell_type": "code",
   "execution_count": 141,
   "id": "a1f00678",
   "metadata": {},
   "outputs": [
    {
     "data": {
      "image/png": "[encoded data removed]",
      "text/plain": [
       "<Figure size 640x480 with 1 Axes>"
      ]
     },
     "metadata": {},
     "output_type": "display_data"
    }
   ],
   "source": [
    "pi_1 = ['a', 'b', 'c', 'd', 'e', 'f']\n",
    "pi_2 = ['d', 'e', 'f', 'a', 'b', 'c']\n",
    "length_block = 3\n",
    "p_outlier = 0.01\n",
    "intersection = find_intersect(pi_1, pi_2)\n",
    "#print(\"intersection: \", intersection)\n",
    "pi_1_project = find_intersect(pi_1, intersection)\n",
    "pi_2_project = find_intersect(pi_2, intersection)\n",
    "all_blocks = find_blocks(pi_2_project, pi_1_project, length_block, p_outlier)\n",
    "#all_blocks = find_blocks(pi_2, pi_1, length_block, p_outlier)"
   ]
  },
  {
   "cell_type": "markdown",
   "id": "9ecbf114",
   "metadata": {},
   "source": [
    "### example 2 (on finding B_0, B_0')"
   ]
  },
  {
   "cell_type": "code",
   "execution_count": 78,
   "id": "1d103f5e",
   "metadata": {},
   "outputs": [],
   "source": [
    "pi_1 = ['a', 'e', 'b', 'c', 'd']\n",
    "pi_2 = ['c', 'd', 'f', 'a', 'b']"
   ]
  },
  {
   "cell_type": "code",
   "execution_count": 102,
   "id": "a6dd1333",
   "metadata": {},
   "outputs": [],
   "source": [
    "completed_blocks = []\n",
    "for bk in all_blocks_:\n",
    "    completed_blocks.append(adjust_bk(bk, pi_1, pi_2))"
   ]
  },
  {
   "cell_type": "code",
   "execution_count": 103,
   "id": "63c0d6f1",
   "metadata": {},
   "outputs": [
    {
     "data": {
      "text/plain": [
       "[(array(['a', 'b', 'e'], dtype='<U1'), array(['a', 'b'], dtype='<U1')),\n",
       " (array(['c', 'd'], dtype='<U1'), array(['c', 'd'], dtype='<U1'))]"
      ]
     },
     "execution_count": 103,
     "metadata": {},
     "output_type": "execute_result"
    }
   ],
   "source": [
    "completed_blocks"
   ]
  }
 ],
 "metadata": {
  "kernelspec": {
   "display_name": "Python 3 (ipykernel)",
   "language": "python",
   "name": "python3"
  },
  "language_info": {
   "codemirror_mode": {
    "name": "ipython",
    "version": 3
   },
   "file_extension": ".py",
   "mimetype": "text/x-python",
   "name": "python",
   "nbconvert_exporter": "python",
   "pygments_lexer": "ipython3",
   "version": "3.11.5"
  }
 },
 "nbformat": 4,
 "nbformat_minor": 5
}
